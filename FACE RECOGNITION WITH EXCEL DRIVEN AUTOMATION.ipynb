{
 "cells": [
  {
   "cell_type": "code",
   "execution_count": null,
   "metadata": {},
   "outputs": [],
   "source": [
    "# Import necessary libraries\n",
    "import face_recognition\n",
    "import cv2\n",
    "import numpy as np\n",
    "import csv\n",
    "from datetime import datetime\n"
   ]
  },
  {
   "cell_type": "code",
   "execution_count": null,
   "metadata": {},
   "outputs": [],
   "source": [
    "# Initialize the video capture object for the default camera\n",
    "cap = cv2.VideoCapture(0, cv2.CAP_DSHOW)\n"
   ]
  },
  {
   "cell_type": "code",
   "execution_count": null,
   "metadata": {},
   "outputs": [],
   "source": [
    "# Load known faces and their names\n",
    "known_face_encodings = []\n",
    "known_face_names = []\n",
    "\n",
    "# Add your known faces here\n",
    "for person in [\"harpitha\", \"elon\"]:\n",
    "    image_path = f\"C:\\Users\\Harpitha\\OneDrive\\Documents\\z.DOCSSS\\IMP\\Harpitha.jpg\"\n",
    "    image = face_recognition.load_image_file(image_path)\n",
    "    encoding = face_recognition.face_encodings(image)[0]\n",
    "    known_face_encodings.append(encoding)\n",
    "    known_face_names.append(person)\n",
    "\n",
    "# Create a copy for expected students\n",
    "expected_students = known_face_names.copy()\n"
   ]
  },
  {
   "cell_type": "code",
   "execution_count": null,
   "metadata": {},
   "outputs": [],
   "source": [
    "# Initialize variables for face locations and encodings\n",
    "face_locations = []\n",
    "face_encodings = []\n",
    "\n",
    "# Get the current date\n",
    "now = datetime.now()\n",
    "current_date = now.strftime(\"%d-%m-%y\")\n"
   ]
  },
  {
   "cell_type": "code",
   "execution_count": null,
   "metadata": {},
   "outputs": [],
   "source": [
    "# Open a CSV file for writing attendance\n",
    "attendance_file = f\"{current_date}.csv\"\n",
    "with open(attendance_file, \"w+\", newline=\"\") as f:\n",
    "    writer = csv.writer(f)\n"
   ]
  },
  {
   "cell_type": "code",
   "execution_count": null,
   "metadata": {},
   "outputs": [],
   "source": [
    "    while True:\n",
    "        # Capture video frame\n",
    "        _, frame = cap.read()\n",
    "\n",
    "        # Resize frame for faster processing\n",
    "        small_frame = cv2.resize(frame, (0, 0), fx=0.25, fy=0.25)\n",
    "        rgb_small_frame = cv2.cvtColor(small_frame, cv2.COLOR_BGR2RGB)\n",
    "\n",
    "        # Recognize faces in the frame\n",
    "        face_locations = face_recognition.face_locations(rgb_small_frame)\n",
    "        face_encodings = face_recognition.face_encodings(rgb_small_frame, face_locations)\n",
    "\n",
    "        # Process each face found\n",
    "        for face_encoding in face_encodings:\n",
    "            matches = face_recognition.compare_faces(known_face_encodings, face_encoding)\n",
    "            face_distance = face_recognition.face_distance(known_face_encodings, face_encoding)\n",
    "            best_match_index = np.argmin(face_distance)\n",
    "\n",
    "            if matches[best_match_index]:\n",
    "                name = known_face_names[best_match_index]\n",
    "\n",
    "                # Display attendance status on the video feed\n",
    "                font = cv2.FONT_HERSHEY_SIMPLEX\n",
    "                cv2.putText(frame, f\"{name} PRESENT\", (10, 100), font, 1.5, (255, 0, 0), 3)\n",
    "\n",
    "                # Record attendance\n",
    "                if name in expected_students:\n",
    "                    expected_students.remove(name)\n",
    "                    current_time = now.strftime(\"%H:%M:%S\")\n",
    "                    writer.writerow([name, current_time])\n",
    "\n",
    "        # Show the video feed\n",
    "        cv2.imshow(\"Attendance System\", frame)\n",
    "\n",
    "        # Break loop on 'q' key press\n",
    "        if cv2.waitKey(1) & 0xFF == ord(\"q\"):\n",
    "            break\n"
   ]
  },
  {
   "cell_type": "code",
   "execution_count": null,
   "metadata": {},
   "outputs": [],
   "source": [
    "# Release the video capture object and close windows\n",
    "cap.release()\n",
    "cv2.destroyAllWindows()\n"
   ]
  },
  {
   "cell_type": "code",
   "execution_count": null,
   "metadata": {},
   "outputs": [],
   "source": [
    "from openpyxl import Workbook, load_workbook\n",
    "\n",
    "# Define the Excel file name\n",
    "excel_file = f\"{current_date}_attendance.xlsx\"\n",
    "\n",
    "# Check if the file already exists, else create a new one\n",
    "try:\n",
    "    workbook = load_workbook(excel_file)\n",
    "    sheet = workbook.active\n",
    "except FileNotFoundError:\n",
    "    workbook = Workbook()\n",
    "    sheet = workbook.active\n",
    "    # Add headers to the sheet\n",
    "    sheet.append([\"Name\", \"Time\"])\n",
    "\n",
    "# Function to write data to Excel\n",
    "def write_to_excel(name, time):\n",
    "    sheet.append([name, time])\n",
    "    workbook.save(excel_file)\n"
   ]
  }
 ],
 "metadata": {
  "kernelspec": {
   "display_name": "Python 3",
   "language": "python",
   "name": "python3"
  },
  "language_info": {
   "codemirror_mode": {
    "name": "ipython",
    "version": 3
   },
   "file_extension": ".py",
   "mimetype": "text/x-python",
   "name": "python",
   "nbconvert_exporter": "python",
   "pygments_lexer": "ipython3",
   "version": "3.13.1"
  }
 },
 "nbformat": 4,
 "nbformat_minor": 2
}
